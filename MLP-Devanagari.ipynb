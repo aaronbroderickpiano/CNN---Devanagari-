{
 "cells": [
  {
   "cell_type": "code",
   "execution_count": 1,
   "metadata": {},
   "outputs": [
    {
     "name": "stderr",
     "output_type": "stream",
     "text": [
      "/usr/local/lib/python3.6/site-packages/h5py/__init__.py:36: FutureWarning: Conversion of the second argument of issubdtype from `float` to `np.floating` is deprecated. In future, it will be treated as `np.float64 == np.dtype(float).type`.\n",
      "  from ._conv import register_converters as _register_converters\n",
      "Using TensorFlow backend.\n"
     ]
    }
   ],
   "source": [
    "import pandas as pd\n",
    "import numpy as np\n",
    "import tensorflow\n",
    "import keras\n",
    "\n",
    "# Import various componenets for model building\n",
    "from keras.models import Sequential\n",
    "from keras.layers import Dense, Dropout, Flatten, Conv2D, MaxPooling2D\n",
    "from keras.layers import LSTM, Input, TimeDistributed\n",
    "from keras.models import Model\n",
    "from keras.optimizers import RMSprop\n",
    "\n",
    "# Import the backend\n",
    "from keras import backend as K"
   ]
  },
  {
   "cell_type": "code",
   "execution_count": 2,
   "metadata": {},
   "outputs": [],
   "source": [
    "data = pd.read_csv('/Users/aaronmichaelbroderick/Desktop/Data Science/Data/devanagari.csv')"
   ]
  },
  {
   "cell_type": "code",
   "execution_count": 3,
   "metadata": {},
   "outputs": [],
   "source": [
    "Y = data['character']\n",
    "\n",
    "columns = list(data)\n",
    "columns.remove('character')\n",
    "X = data[columns]"
   ]
  },
  {
   "cell_type": "code",
   "execution_count": 4,
   "metadata": {},
   "outputs": [],
   "source": [
    "# Change strings into numerical to work well with Keras\n",
    "\n",
    "letters = list(set(Y))\n",
    "Y_test = list(Y)\n",
    "\n",
    "for i in range(len(letters)):\n",
    "    for j in range(len(Y_test)):\n",
    "        if letters[i] == Y_test[j]:\n",
    "            Y_test[j] = i"
   ]
  },
  {
   "cell_type": "code",
   "execution_count": 5,
   "metadata": {},
   "outputs": [],
   "source": [
    "results = pd.DataFrame()\n",
    "results['cat'] = Y\n",
    "results['num'] = Y_test\n",
    "\n",
    "Y = results.num"
   ]
  },
  {
   "cell_type": "code",
   "execution_count": 6,
   "metadata": {},
   "outputs": [],
   "source": [
    "from sklearn.model_selection import train_test_split\n",
    "x_train, x_test, y_train, y_test = train_test_split(X,Y, test_size = 0.2)"
   ]
  },
  {
   "cell_type": "code",
   "execution_count": 7,
   "metadata": {},
   "outputs": [
    {
     "name": "stdout",
     "output_type": "stream",
     "text": [
      "73600 train samples\n",
      "18400 test samples\n"
     ]
    }
   ],
   "source": [
    "# Convert to float32 for type consistency\n",
    "x_train = x_train.astype('float32')\n",
    "x_test = x_test.astype('float32')\n",
    "\n",
    "# Normalize values to 1 from 0 to 255 (256 values of pixels)\n",
    "x_train /= 255\n",
    "x_test /= 255\n",
    "\n",
    "# Print sample sizes\n",
    "print(x_train.shape[0], 'train samples')\n",
    "print(x_test.shape[0], 'test samples')\n",
    "\n",
    "# Convert class vectors to binary class matrices\n",
    "# So instead of one column with 10 values, create 10 binary columns\n",
    "y_train = keras.utils.to_categorical(y_train, 46)\n",
    "y_test = keras.utils.to_categorical(y_test, 46)"
   ]
  },
  {
   "cell_type": "code",
   "execution_count": 8,
   "metadata": {},
   "outputs": [
    {
     "name": "stdout",
     "output_type": "stream",
     "text": [
      "_________________________________________________________________\n",
      "Layer (type)                 Output Shape              Param #   \n",
      "=================================================================\n",
      "dense_1 (Dense)              (None, 64)                65600     \n",
      "_________________________________________________________________\n",
      "dropout_1 (Dropout)          (None, 64)                0         \n",
      "_________________________________________________________________\n",
      "dense_2 (Dense)              (None, 64)                4160      \n",
      "_________________________________________________________________\n",
      "dropout_2 (Dropout)          (None, 64)                0         \n",
      "_________________________________________________________________\n",
      "dense_3 (Dense)              (None, 46)                2990      \n",
      "=================================================================\n",
      "Total params: 72,750\n",
      "Trainable params: 72,750\n",
      "Non-trainable params: 0\n",
      "_________________________________________________________________\n"
     ]
    }
   ],
   "source": [
    "# Start with a simple sequential model\n",
    "model = Sequential()\n",
    "\n",
    "# Add dense layers to create a fully connected MLP\n",
    "# Note that we specify an input shape for the first layer, but only the first layer.\n",
    "# Relu is the activation function used\n",
    "model.add(Dense(64, activation='relu', input_shape=(1024,)))\n",
    "# Dropout layers remove features and fight overfitting\n",
    "model.add(Dropout(0.1))\n",
    "model.add(Dense(64, activation='relu'))\n",
    "model.add(Dropout(0.1))\n",
    "# End with a number of units equal to the number of classes we have for our outcome\n",
    "model.add(Dense(46, activation='softmax'))\n",
    "\n",
    "model.summary()\n",
    "\n",
    "# Compile the model to put it all together.\n",
    "model.compile(loss='categorical_crossentropy',\n",
    "              optimizer=RMSprop(),\n",
    "              metrics=['accuracy'])"
   ]
  },
  {
   "cell_type": "code",
   "execution_count": 9,
   "metadata": {},
   "outputs": [
    {
     "name": "stdout",
     "output_type": "stream",
     "text": [
      "Train on 73600 samples, validate on 18400 samples\n",
      "Epoch 1/10\n",
      "73600/73600 [==============================] - 3s 38us/step - loss: 2.3547 - acc: 0.3762 - val_loss: 1.4812 - val_acc: 0.6098\n",
      "Epoch 2/10\n",
      "73600/73600 [==============================] - 3s 36us/step - loss: 1.4649 - acc: 0.5914 - val_loss: 1.1298 - val_acc: 0.6960\n",
      "Epoch 3/10\n",
      "73600/73600 [==============================] - 3s 37us/step - loss: 1.2201 - acc: 0.6536 - val_loss: 0.9487 - val_acc: 0.7424\n",
      "Epoch 4/10\n",
      "73600/73600 [==============================] - 3s 36us/step - loss: 1.0786 - acc: 0.6899 - val_loss: 0.8612 - val_acc: 0.7588\n",
      "Epoch 5/10\n",
      "73600/73600 [==============================] - 3s 36us/step - loss: 0.9668 - acc: 0.7191 - val_loss: 0.7491 - val_acc: 0.7904\n",
      "Epoch 6/10\n",
      "73600/73600 [==============================] - 3s 37us/step - loss: 0.8945 - acc: 0.7395 - val_loss: 0.7021 - val_acc: 0.7995\n",
      "Epoch 7/10\n",
      "73600/73600 [==============================] - 3s 37us/step - loss: 0.8404 - acc: 0.7543 - val_loss: 0.6770 - val_acc: 0.8061\n",
      "Epoch 8/10\n",
      "73600/73600 [==============================] - 3s 37us/step - loss: 0.7979 - acc: 0.7664 - val_loss: 0.6205 - val_acc: 0.8240\n",
      "Epoch 9/10\n",
      "73600/73600 [==============================] - 3s 37us/step - loss: 0.7589 - acc: 0.7766 - val_loss: 0.5920 - val_acc: 0.8313\n",
      "Epoch 10/10\n",
      "73600/73600 [==============================] - 3s 36us/step - loss: 0.7285 - acc: 0.7847 - val_loss: 0.5465 - val_acc: 0.8440\n",
      "Test loss: 0.5464969593545664\n",
      "Test accuracy: 0.8440217391304348\n"
     ]
    }
   ],
   "source": [
    "history = model.fit(x_train, y_train,\n",
    "                    batch_size=500,\n",
    "                    epochs=10,\n",
    "                    verbose=1,\n",
    "                    validation_data=(x_test, y_test))\n",
    "score = model.evaluate(x_test, y_test, verbose=0)\n",
    "print('Test loss:', score[0])\n",
    "print('Test accuracy:', score[1])"
   ]
  },
  {
   "cell_type": "code",
   "execution_count": null,
   "metadata": {},
   "outputs": [],
   "source": []
  }
 ],
 "metadata": {
  "kernelspec": {
   "display_name": "Python 3",
   "language": "python",
   "name": "python3"
  },
  "language_info": {
   "codemirror_mode": {
    "name": "ipython",
    "version": 3
   },
   "file_extension": ".py",
   "mimetype": "text/x-python",
   "name": "python",
   "nbconvert_exporter": "python",
   "pygments_lexer": "ipython3",
   "version": "3.6.4"
  }
 },
 "nbformat": 4,
 "nbformat_minor": 2
}
